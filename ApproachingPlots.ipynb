{
 "cells": [
  {
   "cell_type": "markdown",
   "metadata": {
    "id": "RyW2q714KTCu"
   },
   "source": [
    "# Apophis Ephemeris Download\n",
    "\n",
    "\n",
    "Agustín Vallejo Villegas\n",
    "\n",
    "This notebook will look up the data for the Apophis trajectory in JPL's Horizons web service using the Astroquery library.\n",
    "\n",
    "An extra column is added at the end: `delta (Rt)` which will have the distance from Earth's center to Apophis in Earth Radii.\n",
    "\n",
    "Finally, the dataframe is saved to the Data folder as `ephemeris.xlsx`\n"
   ]
  },
  {
   "cell_type": "markdown",
   "metadata": {
    "id": "8WwOjIn5KTCv"
   },
   "source": [
    "### Documentación\n",
    "+ Horizons Query: \n",
    "    + https://astroquery.readthedocs.io/en/latest/jplhorizons/jplhorizons.html\n"
   ]
  },
  {
   "cell_type": "markdown",
   "metadata": {
    "id": "9Y3_tES5KTCw"
   },
   "source": [
    "### Librerías"
   ]
  },
  {
   "cell_type": "code",
   "execution_count": 1,
   "metadata": {
    "executionInfo": {
     "elapsed": 333,
     "status": "ok",
     "timestamp": 1635303874624,
     "user": {
      "displayName": "AGUSTÍN VALLEJO VILLEGAS",
      "photoUrl": "https://lh3.googleusercontent.com/a-/AOh14GiTpyabxN6NGdI3Nhe8x3_xriSzZWzHqzwUwEG92m2gDk7J5iVoGWL050erOwaD241NFTTxaiEDXhfrM2ptesBGmNpFWia-H5E4u3P7gUfgF_t7No6tjNV9jlOHtjFK9OhdsZTsMQF5IZYXXO1M76OJARvnPpeMX4IrJCTAGAhGGFVpgirX9Lg4sgHCY69HbYULKkYa3_4s1vcYM4f1DWWE6eBQ0UVlFWBZA9Da7bTUC3xrKcwS0r41l2678XSjLxFKNpYtifb9O1lvzT4U_FRT7XcQS-MeiScKLUGyxU7Ptrg4XT_GAxpwrR86N7XfCANhkh_RHBj5sN98FUMzBpr_vdG-D6nDCAjBoWTTPmfRGw1ZeVxBivqRUUzZkG8iedyehHeunJVNKGGR_Fx_ZHwAmlpJbqN13KEwIexzMehmnFePf3Hyr_1ZQqHOIaKDqc5-Jln4A5vtLDytN7LKE542OykWQOwW3c9GgReG-KP_7s_c0HD93y-dCA4xX5oiV0crdLkhvmh0q022XLzXxCpdrSh72Y5QuUGsZ5T-ChvEISl1b28JvOeUGyxE6nsCdvTaH6Khn_S-7b-vVQoY5cKZZUq9Bnvg346ddVzizM50HtOEAgHyQgg_YxIkj8J6hGqfvNWr60QuzwyUqNI2MAJOxGHPXmATM6K_qLW5RDt0iBsT9Idtgm-oBBaarqJJXaoAK6q87cnH4rzM5nQo9_HUHXVdsEpoc95WfpdcT0KfAQONk_dqkuN07YMIyzc4FSFOKIA=s64",
      "userId": "17322407943060188815"
     },
     "user_tz": 300
    },
    "id": "VyT94d5oKTCw"
   },
   "outputs": [],
   "source": [
    "\"LIBRERÍAS BÁSICAS\"\n",
    "import numpy as np\n",
    "import pandas as pd"
   ]
  },
  {
   "cell_type": "code",
   "execution_count": 5,
   "metadata": {},
   "outputs": [
    {
     "name": "stdout",
     "output_type": "stream",
     "text": [
      "Collecting astroquery\n",
      "  Downloading astroquery-0.4.5-py3-none-any.whl (4.5 MB)\n",
      "\u001b[K     |████████████████████████████████| 4.5 MB 2.1 MB/s eta 0:00:01\n",
      "\u001b[?25hRequirement already satisfied: html5lib>=0.999 in /Users/jorgezuluagacallejas/opt/anaconda3/lib/python3.8/site-packages (from astroquery) (1.1)\n",
      "Requirement already satisfied: requests>=2.4.3 in /Users/jorgezuluagacallejas/opt/anaconda3/lib/python3.8/site-packages (from astroquery) (2.25.1)\n",
      "Collecting pyvo>=1.1\n",
      "  Downloading pyvo-1.2-py3-none-any.whl (832 kB)\n",
      "\u001b[K     |████████████████████████████████| 832 kB 44.0 MB/s eta 0:00:01\n",
      "\u001b[?25hRequirement already satisfied: beautifulsoup4>=4.3.2 in /Users/jorgezuluagacallejas/opt/anaconda3/lib/python3.8/site-packages (from astroquery) (4.9.3)\n",
      "Requirement already satisfied: astropy>=4.0 in /Users/jorgezuluagacallejas/opt/anaconda3/lib/python3.8/site-packages (from astroquery) (4.2.1)\n",
      "Requirement already satisfied: keyring>=4.0 in /Users/jorgezuluagacallejas/opt/anaconda3/lib/python3.8/site-packages (from astroquery) (22.3.0)\n",
      "Requirement already satisfied: numpy>=1.16 in /Users/jorgezuluagacallejas/opt/anaconda3/lib/python3.8/site-packages (from astroquery) (1.21.1)\n",
      "Requirement already satisfied: pyerfa in /Users/jorgezuluagacallejas/opt/anaconda3/lib/python3.8/site-packages (from astropy>=4.0->astroquery) (2.0.0)\n",
      "Requirement already satisfied: soupsieve>1.2 in /Users/jorgezuluagacallejas/opt/anaconda3/lib/python3.8/site-packages (from beautifulsoup4>=4.3.2->astroquery) (2.2.1)\n",
      "Requirement already satisfied: six>=1.9 in /Users/jorgezuluagacallejas/opt/anaconda3/lib/python3.8/site-packages (from html5lib>=0.999->astroquery) (1.16.0)\n",
      "Requirement already satisfied: webencodings in /Users/jorgezuluagacallejas/opt/anaconda3/lib/python3.8/site-packages (from html5lib>=0.999->astroquery) (0.5.1)\n",
      "Requirement already satisfied: chardet<5,>=3.0.2 in /Users/jorgezuluagacallejas/opt/anaconda3/lib/python3.8/site-packages (from requests>=2.4.3->astroquery) (4.0.0)\n",
      "Requirement already satisfied: certifi>=2017.4.17 in /Users/jorgezuluagacallejas/opt/anaconda3/lib/python3.8/site-packages (from requests>=2.4.3->astroquery) (2020.12.5)\n",
      "Requirement already satisfied: idna<3,>=2.5 in /Users/jorgezuluagacallejas/opt/anaconda3/lib/python3.8/site-packages (from requests>=2.4.3->astroquery) (2.10)\n",
      "Requirement already satisfied: urllib3<1.27,>=1.21.1 in /Users/jorgezuluagacallejas/opt/anaconda3/lib/python3.8/site-packages (from requests>=2.4.3->astroquery) (1.26.4)\n",
      "Installing collected packages: pyvo, astroquery\n",
      "Successfully installed astroquery-0.4.5 pyvo-1.2\n",
      "\u001b[33mWARNING: You are using pip version 21.1.3; however, version 21.3.1 is available.\n",
      "You should consider upgrading via the '/Users/jorgezuluagacallejas/opt/anaconda3/bin/python -m pip install --upgrade pip' command.\u001b[0m\n"
     ]
    }
   ],
   "source": [
    "python=\"/Users/jorgezuluagacallejas/opt/anaconda3/bin/python\" # In my mac\n",
    "!$python -m pip install astroquery"
   ]
  },
  {
   "cell_type": "code",
   "execution_count": 6,
   "metadata": {
    "colab": {
     "base_uri": "https://localhost:8080/"
    },
    "executionInfo": {
     "elapsed": 10053,
     "status": "ok",
     "timestamp": 1635303884901,
     "user": {
      "displayName": "AGUSTÍN VALLEJO VILLEGAS",
      "photoUrl": "https://lh3.googleusercontent.com/a-/AOh14GiTpyabxN6NGdI3Nhe8x3_xriSzZWzHqzwUwEG92m2gDk7J5iVoGWL050erOwaD241NFTTxaiEDXhfrM2ptesBGmNpFWia-H5E4u3P7gUfgF_t7No6tjNV9jlOHtjFK9OhdsZTsMQF5IZYXXO1M76OJARvnPpeMX4IrJCTAGAhGGFVpgirX9Lg4sgHCY69HbYULKkYa3_4s1vcYM4f1DWWE6eBQ0UVlFWBZA9Da7bTUC3xrKcwS0r41l2678XSjLxFKNpYtifb9O1lvzT4U_FRT7XcQS-MeiScKLUGyxU7Ptrg4XT_GAxpwrR86N7XfCANhkh_RHBj5sN98FUMzBpr_vdG-D6nDCAjBoWTTPmfRGw1ZeVxBivqRUUzZkG8iedyehHeunJVNKGGR_Fx_ZHwAmlpJbqN13KEwIexzMehmnFePf3Hyr_1ZQqHOIaKDqc5-Jln4A5vtLDytN7LKE542OykWQOwW3c9GgReG-KP_7s_c0HD93y-dCA4xX5oiV0crdLkhvmh0q022XLzXxCpdrSh72Y5QuUGsZ5T-ChvEISl1b28JvOeUGyxE6nsCdvTaH6Khn_S-7b-vVQoY5cKZZUq9Bnvg346ddVzizM50HtOEAgHyQgg_YxIkj8J6hGqfvNWr60QuzwyUqNI2MAJOxGHPXmATM6K_qLW5RDt0iBsT9Idtgm-oBBaarqJJXaoAK6q87cnH4rzM5nQo9_HUHXVdsEpoc95WfpdcT0KfAQONk_dqkuN07YMIyzc4FSFOKIA=s64",
      "userId": "17322407943060188815"
     },
     "user_tz": 300
    },
    "id": "10JwJRoNKTC0",
    "outputId": "d1cf1efa-b911-4f1c-8402-6706632cd5f3"
   },
   "outputs": [],
   "source": [
    "\"ASTROPY\"\n",
    "from astroquery.jplhorizons import Horizons\n",
    "\n",
    "from astropy.time import Time\n",
    "from astropy.table import Table\n",
    "from astropy.coordinates import SkyCoord, EarthLocation, AltAz, get_sun\n",
    "import astropy.units as u"
   ]
  },
  {
   "cell_type": "markdown",
   "metadata": {
    "id": "W1qnDP4tKTC-"
   },
   "source": [
    "## Efemérides"
   ]
  },
  {
   "cell_type": "code",
   "execution_count": 7,
   "metadata": {
    "colab": {
     "base_uri": "https://localhost:8080/"
    },
    "executionInfo": {
     "elapsed": 9,
     "status": "ok",
     "timestamp": 1635303990486,
     "user": {
      "displayName": "AGUSTÍN VALLEJO VILLEGAS",
      "photoUrl": "https://lh3.googleusercontent.com/a-/AOh14GiTpyabxN6NGdI3Nhe8x3_xriSzZWzHqzwUwEG92m2gDk7J5iVoGWL050erOwaD241NFTTxaiEDXhfrM2ptesBGmNpFWia-H5E4u3P7gUfgF_t7No6tjNV9jlOHtjFK9OhdsZTsMQF5IZYXXO1M76OJARvnPpeMX4IrJCTAGAhGGFVpgirX9Lg4sgHCY69HbYULKkYa3_4s1vcYM4f1DWWE6eBQ0UVlFWBZA9Da7bTUC3xrKcwS0r41l2678XSjLxFKNpYtifb9O1lvzT4U_FRT7XcQS-MeiScKLUGyxU7Ptrg4XT_GAxpwrR86N7XfCANhkh_RHBj5sN98FUMzBpr_vdG-D6nDCAjBoWTTPmfRGw1ZeVxBivqRUUzZkG8iedyehHeunJVNKGGR_Fx_ZHwAmlpJbqN13KEwIexzMehmnFePf3Hyr_1ZQqHOIaKDqc5-Jln4A5vtLDytN7LKE542OykWQOwW3c9GgReG-KP_7s_c0HD93y-dCA4xX5oiV0crdLkhvmh0q022XLzXxCpdrSh72Y5QuUGsZ5T-ChvEISl1b28JvOeUGyxE6nsCdvTaH6Khn_S-7b-vVQoY5cKZZUq9Bnvg346ddVzizM50HtOEAgHyQgg_YxIkj8J6hGqfvNWr60QuzwyUqNI2MAJOxGHPXmATM6K_qLW5RDt0iBsT9Idtgm-oBBaarqJJXaoAK6q87cnH4rzM5nQo9_HUHXVdsEpoc95WfpdcT0KfAQONk_dqkuN07YMIyzc4FSFOKIA=s64",
      "userId": "17322407943060188815"
     },
     "user_tz": 300
    },
    "id": "AS-nm7SsKTC_",
    "outputId": "c0f6676c-1b3c-44b9-d1d1-79b33c95f150"
   },
   "outputs": [
    {
     "name": "stdout",
     "output_type": "stream",
     "text": [
      "(Ignorar advertencia de ERFA si sale, es porque está muy a futuro)\n"
     ]
    },
    {
     "name": "stderr",
     "output_type": "stream",
     "text": [
      "/Users/jorgezuluagacallejas/opt/anaconda3/lib/python3.8/site-packages/erfa/core.py:154: ErfaWarning: ERFA function \"dtf2d\" yielded 1 of \"dubious year (Note 6)\"\n",
      "  warnings.warn('ERFA function \"{}\" yielded {}'.format(func_name, wmsg),\n",
      "/Users/jorgezuluagacallejas/opt/anaconda3/lib/python3.8/site-packages/erfa/core.py:154: ErfaWarning: ERFA function \"d2dtf\" yielded 1 of \"dubious year (Note 5)\"\n",
      "  warnings.warn('ERFA function \"{}\" yielded {}'.format(func_name, wmsg),\n"
     ]
    }
   ],
   "source": [
    "\"UNIDAD ASTRONÓMICA\"\n",
    "AU = (1*u.au).to(u.m).value\n",
    "\n",
    "\"TIEMPOS\"\n",
    "# Se definen los tiempos desde que está a 12Rt, pasando por su máximo\n",
    "# acercamiento en 6Rt y volviendo a 12Rt\n",
    "t_ini = Time('2029-04-13 13:30:00',format='iso')\n",
    "t_max = Time('2029-04-13 22:05:00',format='iso') #Máximo Acercamiento\n",
    "# t_end = Time('2029-04-13 23:00:00',format='iso') #Final. Step de 5min\n",
    "t_end = Time('2029-04-14 06:06:00',format='iso')\n",
    "\n",
    "epochs = {'start':t_ini.value, 'stop':t_end.value, 'step':'5m'}\n",
    "\n",
    "\n",
    "print(\"(Ignorar advertencia de ERFA si sale, es porque está muy a futuro)\")"
   ]
  },
  {
   "cell_type": "code",
   "execution_count": 8,
   "metadata": {
    "colab": {
     "base_uri": "https://localhost:8080/"
    },
    "executionInfo": {
     "elapsed": 2665,
     "status": "ok",
     "timestamp": 1635303993147,
     "user": {
      "displayName": "AGUSTÍN VALLEJO VILLEGAS",
      "photoUrl": "https://lh3.googleusercontent.com/a-/AOh14GiTpyabxN6NGdI3Nhe8x3_xriSzZWzHqzwUwEG92m2gDk7J5iVoGWL050erOwaD241NFTTxaiEDXhfrM2ptesBGmNpFWia-H5E4u3P7gUfgF_t7No6tjNV9jlOHtjFK9OhdsZTsMQF5IZYXXO1M76OJARvnPpeMX4IrJCTAGAhGGFVpgirX9Lg4sgHCY69HbYULKkYa3_4s1vcYM4f1DWWE6eBQ0UVlFWBZA9Da7bTUC3xrKcwS0r41l2678XSjLxFKNpYtifb9O1lvzT4U_FRT7XcQS-MeiScKLUGyxU7Ptrg4XT_GAxpwrR86N7XfCANhkh_RHBj5sN98FUMzBpr_vdG-D6nDCAjBoWTTPmfRGw1ZeVxBivqRUUzZkG8iedyehHeunJVNKGGR_Fx_ZHwAmlpJbqN13KEwIexzMehmnFePf3Hyr_1ZQqHOIaKDqc5-Jln4A5vtLDytN7LKE542OykWQOwW3c9GgReG-KP_7s_c0HD93y-dCA4xX5oiV0crdLkhvmh0q022XLzXxCpdrSh72Y5QuUGsZ5T-ChvEISl1b28JvOeUGyxE6nsCdvTaH6Khn_S-7b-vVQoY5cKZZUq9Bnvg346ddVzizM50HtOEAgHyQgg_YxIkj8J6hGqfvNWr60QuzwyUqNI2MAJOxGHPXmATM6K_qLW5RDt0iBsT9Idtgm-oBBaarqJJXaoAK6q87cnH4rzM5nQo9_HUHXVdsEpoc95WfpdcT0KfAQONk_dqkuN07YMIyzc4FSFOKIA=s64",
      "userId": "17322407943060188815"
     },
     "user_tz": 300
    },
    "id": "npeuj5GITIEw",
    "outputId": "ab7cb129-f510-4c2f-f48d-cbabcc4382b1"
   },
   "outputs": [
    {
     "name": "stdout",
     "output_type": "stream",
     "text": [
      "200\n"
     ]
    }
   ],
   "source": [
    "\"EFEMÉRIDES\"\n",
    "#Efemérides de Apofis entre los tiempos estipulados\n",
    "apophis = Horizons(id='99942',epochs=epochs) \n",
    "ephemeris = apophis.ephemerides()\n",
    "vectors = apophis.vectors()\n",
    "\n",
    "#Coordenadas Ecuatoriales del Asteroide\n",
    "ECUcoords = SkyCoord(ephemeris['RA'], ephemeris['DEC']\n",
    "                     ,ephemeris['delta'], frame='gcrs')\n",
    "\n",
    "Nt = np.shape(ephemeris)[0]\n",
    "print(Nt)"
   ]
  },
  {
   "cell_type": "code",
   "execution_count": 9,
   "metadata": {
    "colab": {
     "base_uri": "https://localhost:8080/",
     "height": 1000
    },
    "executionInfo": {
     "elapsed": 10,
     "status": "ok",
     "timestamp": 1635303993579,
     "user": {
      "displayName": "AGUSTÍN VALLEJO VILLEGAS",
      "photoUrl": "https://lh3.googleusercontent.com/a-/AOh14GiTpyabxN6NGdI3Nhe8x3_xriSzZWzHqzwUwEG92m2gDk7J5iVoGWL050erOwaD241NFTTxaiEDXhfrM2ptesBGmNpFWia-H5E4u3P7gUfgF_t7No6tjNV9jlOHtjFK9OhdsZTsMQF5IZYXXO1M76OJARvnPpeMX4IrJCTAGAhGGFVpgirX9Lg4sgHCY69HbYULKkYa3_4s1vcYM4f1DWWE6eBQ0UVlFWBZA9Da7bTUC3xrKcwS0r41l2678XSjLxFKNpYtifb9O1lvzT4U_FRT7XcQS-MeiScKLUGyxU7Ptrg4XT_GAxpwrR86N7XfCANhkh_RHBj5sN98FUMzBpr_vdG-D6nDCAjBoWTTPmfRGw1ZeVxBivqRUUzZkG8iedyehHeunJVNKGGR_Fx_ZHwAmlpJbqN13KEwIexzMehmnFePf3Hyr_1ZQqHOIaKDqc5-Jln4A5vtLDytN7LKE542OykWQOwW3c9GgReG-KP_7s_c0HD93y-dCA4xX5oiV0crdLkhvmh0q022XLzXxCpdrSh72Y5QuUGsZ5T-ChvEISl1b28JvOeUGyxE6nsCdvTaH6Khn_S-7b-vVQoY5cKZZUq9Bnvg346ddVzizM50HtOEAgHyQgg_YxIkj8J6hGqfvNWr60QuzwyUqNI2MAJOxGHPXmATM6K_qLW5RDt0iBsT9Idtgm-oBBaarqJJXaoAK6q87cnH4rzM5nQo9_HUHXVdsEpoc95WfpdcT0KfAQONk_dqkuN07YMIyzc4FSFOKIA=s64",
      "userId": "17322407943060188815"
     },
     "user_tz": 300
    },
    "id": "YOhthy3BnP2h",
    "outputId": "f5fd6af6-744f-4e94-cf06-3eae7f8fc244"
   },
   "outputs": [],
   "source": [
    "ephemeris['delta (Rt)'] = ephemeris['delta']*u.au.to(u.R_earth)"
   ]
  },
  {
   "cell_type": "code",
   "execution_count": 10,
   "metadata": {
    "executionInfo": {
     "elapsed": 697,
     "status": "ok",
     "timestamp": 1635304013734,
     "user": {
      "displayName": "AGUSTÍN VALLEJO VILLEGAS",
      "photoUrl": "https://lh3.googleusercontent.com/a-/AOh14GiTpyabxN6NGdI3Nhe8x3_xriSzZWzHqzwUwEG92m2gDk7J5iVoGWL050erOwaD241NFTTxaiEDXhfrM2ptesBGmNpFWia-H5E4u3P7gUfgF_t7No6tjNV9jlOHtjFK9OhdsZTsMQF5IZYXXO1M76OJARvnPpeMX4IrJCTAGAhGGFVpgirX9Lg4sgHCY69HbYULKkYa3_4s1vcYM4f1DWWE6eBQ0UVlFWBZA9Da7bTUC3xrKcwS0r41l2678XSjLxFKNpYtifb9O1lvzT4U_FRT7XcQS-MeiScKLUGyxU7Ptrg4XT_GAxpwrR86N7XfCANhkh_RHBj5sN98FUMzBpr_vdG-D6nDCAjBoWTTPmfRGw1ZeVxBivqRUUzZkG8iedyehHeunJVNKGGR_Fx_ZHwAmlpJbqN13KEwIexzMehmnFePf3Hyr_1ZQqHOIaKDqc5-Jln4A5vtLDytN7LKE542OykWQOwW3c9GgReG-KP_7s_c0HD93y-dCA4xX5oiV0crdLkhvmh0q022XLzXxCpdrSh72Y5QuUGsZ5T-ChvEISl1b28JvOeUGyxE6nsCdvTaH6Khn_S-7b-vVQoY5cKZZUq9Bnvg346ddVzizM50HtOEAgHyQgg_YxIkj8J6hGqfvNWr60QuzwyUqNI2MAJOxGHPXmATM6K_qLW5RDt0iBsT9Idtgm-oBBaarqJJXaoAK6q87cnH4rzM5nQo9_HUHXVdsEpoc95WfpdcT0KfAQONk_dqkuN07YMIyzc4FSFOKIA=s64",
      "userId": "17322407943060188815"
     },
     "user_tz": 300
    },
    "id": "3_srWMIon_F9"
   },
   "outputs": [],
   "source": [
    "# ephemeris.to_pandas().to_csv(\"../Data/ephemeris3.csv\")\n",
    "vectors.to_pandas().to_csv(\"../Data/vectors2.csv\")"
   ]
  },
  {
   "cell_type": "code",
   "execution_count": 11,
   "metadata": {},
   "outputs": [
    {
     "data": {
      "text/plain": [
       "200"
      ]
     },
     "execution_count": 11,
     "metadata": {},
     "output_type": "execute_result"
    }
   ],
   "source": [
    "len(vectors)"
   ]
  },
  {
   "cell_type": "code",
   "execution_count": null,
   "metadata": {},
   "outputs": [],
   "source": []
  }
 ],
 "metadata": {
  "colab": {
   "authorship_tag": "ABX9TyOiclwyhf53XnlPPw1ZuRGO",
   "collapsed_sections": [],
   "mount_file_id": "1564Q4KuP8aJ29xmi-3E1Nmz4UXBTGjPg",
   "name": "1. Ephermis.ipynb",
   "provenance": []
  },
  "kernelspec": {
   "display_name": "Python 3",
   "language": "python",
   "name": "python3"
  },
  "language_info": {
   "codemirror_mode": {
    "name": "ipython",
    "version": 3
   },
   "file_extension": ".py",
   "mimetype": "text/x-python",
   "name": "python",
   "nbconvert_exporter": "python",
   "pygments_lexer": "ipython3",
   "version": "3.8.8"
  }
 },
 "nbformat": 4,
 "nbformat_minor": 1
}
